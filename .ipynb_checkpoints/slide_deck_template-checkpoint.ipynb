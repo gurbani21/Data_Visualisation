{
 "cells": [
  {
   "cell_type": "markdown",
   "metadata": {
    "slideshow": {
     "slide_type": "slide"
    }
   },
   "source": [
    "# BayArea Bike Share Slide Deck\n",
    "\n",
    "#### This document explores a dataset containing 519700 rows and 15 columns of BikeSharing in BayArea"
   ]
  },
  {
   "cell_type": "code",
   "execution_count": 43,
   "metadata": {
    "slideshow": {
     "slide_type": "skip"
    }
   },
   "outputs": [],
   "source": [
    "# import all packages and set plots to be embedded inline\n",
    "import numpy as np\n",
    "import pandas as pd\n",
    "import matplotlib.pyplot as plt\n",
    "import seaborn as sb\n",
    "import datetime\n",
    "import calendar\n",
    "\n",
    "%matplotlib inline"
   ]
  },
  {
   "cell_type": "markdown",
   "metadata": {
    "slideshow": {
     "slide_type": "skip"
    }
   },
   "source": [
    "### Gathering Data"
   ]
  },
  {
   "cell_type": "code",
   "execution_count": 44,
   "metadata": {
    "slideshow": {
     "slide_type": "skip"
    }
   },
   "outputs": [],
   "source": [
    "# load in the dataset into a pandas dataframe, print statistics\n",
    "bike_data_df = pd.read_csv('2017-fordgobike-tripdata.csv',index_col=False)"
   ]
  },
  {
   "cell_type": "markdown",
   "metadata": {
    "slideshow": {
     "slide_type": "skip"
    }
   },
   "source": [
    "## Assessing,Cleaning and Reshaping of  Data"
   ]
  },
  {
   "cell_type": "code",
   "execution_count": 45,
   "metadata": {
    "slideshow": {
     "slide_type": "skip"
    }
   },
   "outputs": [],
   "source": [
    "#extract the value of start hour and end hour from start_time\n",
    "bike_data_df['start_hour'] = pd.DatetimeIndex(bike_data_df['start_time']).hour\n",
    "bike_data_df['end_hour'] = pd.DatetimeIndex(bike_data_df['end_time']).hour"
   ]
  },
  {
   "cell_type": "code",
   "execution_count": 46,
   "metadata": {
    "slideshow": {
     "slide_type": "skip"
    }
   },
   "outputs": [],
   "source": [
    "#normalize start time and end time\n",
    "bike_data_df['start_date'] = pd.DatetimeIndex(bike_data_df.start_time).normalize()\n",
    "bike_data_df['end_date']=pd.DatetimeIndex(bike_data_df['end_time']).normalize()\n"
   ]
  },
  {
   "cell_type": "code",
   "execution_count": 47,
   "metadata": {
    "slideshow": {
     "slide_type": "skip"
    }
   },
   "outputs": [],
   "source": [
    "#extract days of the week from time.\n",
    "bike_data_df['start_day_of_week'] = bike_data_df['start_date'].dt.day_name()\n",
    "bike_data_df['end_day_of_week'] = bike_data_df['start_date'].dt.day_name()"
   ]
  },
  {
   "cell_type": "code",
   "execution_count": 48,
   "metadata": {
    "slideshow": {
     "slide_type": "skip"
    }
   },
   "outputs": [],
   "source": [
    "# change the trip duration from seconds to minutes \n",
    "bike_data_df['trip_duration_minutes'] = bike_data_df['duration_sec']/60"
   ]
  },
  {
   "cell_type": "code",
   "execution_count": 49,
   "metadata": {
    "slideshow": {
     "slide_type": "skip"
    }
   },
   "outputs": [],
   "source": [
    "#extact age of the rider using birth year column\n",
    "now = datetime.datetime.now()\n",
    "bike_data_df['age_of_rider'] = now.year - bike_data_df['member_birth_year'] \n",
    "bike_data_df['age_of_rider'] = bike_data_df['age_of_rider'].fillna(0.0).astype(int)\n"
   ]
  },
  {
   "cell_type": "code",
   "execution_count": 50,
   "metadata": {
    "slideshow": {
     "slide_type": "skip"
    }
   },
   "outputs": [],
   "source": [
    "# to get month name value from month number\n",
    "bike_data_df['start_month']= bike_data_df['start_date'].dt.month\n",
    "bike_data_df['start_month'] = bike_data_df['start_month'].astype(int)\n",
    "bike_data_df['start_month'] = bike_data_df['start_month'].apply(lambda x: calendar.month_abbr[x])\n"
   ]
  },
  {
   "cell_type": "code",
   "execution_count": 51,
   "metadata": {
    "slideshow": {
     "slide_type": "skip"
    }
   },
   "outputs": [
    {
     "data": {
      "text/html": [
       "<div>\n",
       "<style scoped>\n",
       "    .dataframe tbody tr th:only-of-type {\n",
       "        vertical-align: middle;\n",
       "    }\n",
       "\n",
       "    .dataframe tbody tr th {\n",
       "        vertical-align: top;\n",
       "    }\n",
       "\n",
       "    .dataframe thead th {\n",
       "        text-align: right;\n",
       "    }\n",
       "</style>\n",
       "<table border=\"1\" class=\"dataframe\">\n",
       "  <thead>\n",
       "    <tr style=\"text-align: right;\">\n",
       "      <th></th>\n",
       "      <th>duration_sec</th>\n",
       "      <th>start_time</th>\n",
       "      <th>end_time</th>\n",
       "      <th>start_station_id</th>\n",
       "      <th>start_station_name</th>\n",
       "      <th>start_station_latitude</th>\n",
       "      <th>start_station_longitude</th>\n",
       "      <th>end_station_id</th>\n",
       "      <th>end_station_name</th>\n",
       "      <th>end_station_latitude</th>\n",
       "      <th>...</th>\n",
       "      <th>member_gender</th>\n",
       "      <th>start_hour</th>\n",
       "      <th>end_hour</th>\n",
       "      <th>start_date</th>\n",
       "      <th>end_date</th>\n",
       "      <th>start_day_of_week</th>\n",
       "      <th>end_day_of_week</th>\n",
       "      <th>trip_duration_minutes</th>\n",
       "      <th>age_of_rider</th>\n",
       "      <th>start_month</th>\n",
       "    </tr>\n",
       "  </thead>\n",
       "  <tbody>\n",
       "  </tbody>\n",
       "</table>\n",
       "<p>0 rows × 24 columns</p>\n",
       "</div>"
      ],
      "text/plain": [
       "Empty DataFrame\n",
       "Columns: [duration_sec, start_time, end_time, start_station_id, start_station_name, start_station_latitude, start_station_longitude, end_station_id, end_station_name, end_station_latitude, end_station_longitude, bike_id, user_type, member_birth_year, member_gender, start_hour, end_hour, start_date, end_date, start_day_of_week, end_day_of_week, trip_duration_minutes, age_of_rider, start_month]\n",
       "Index: []\n",
       "\n",
       "[0 rows x 24 columns]"
      ]
     },
     "execution_count": 51,
     "metadata": {},
     "output_type": "execute_result"
    }
   ],
   "source": [
    "bike_data_df[bike_data_df['start_month'].isnull()]"
   ]
  },
  {
   "cell_type": "code",
   "execution_count": 52,
   "metadata": {
    "slideshow": {
     "slide_type": "skip"
    }
   },
   "outputs": [],
   "source": [
    "#delete columns which are no longer required\n",
    "del_columns = ['duration_sec','start_station_id','start_station_latitude','start_station_longitude','end_station_id','end_station_latitude','end_station_longitude','bike_id','member_birth_year','start_time','end_time']\n",
    "bike_data_df.drop(del_columns,axis=1,inplace=True)"
   ]
  },
  {
   "cell_type": "code",
   "execution_count": 53,
   "metadata": {
    "slideshow": {
     "slide_type": "skip"
    }
   },
   "outputs": [],
   "source": [
    "# convert into ordered categorical types\n",
    "\n",
    "ordinal_var_dict = {'start_day_of_week': ['Monday','Tuesday','Wednesday','Thursday','Friday','Saturday','Sunday'],\n",
    "                    'end_day_of_week': ['Monday','Tuesday','Wednesday','Thursday','Friday','Saturday','Sunday'],\n",
    "                   'user_type': ['Customer','Subscriber'],\n",
    "                   'member_gender' :['Male','Female'],\n",
    "                   'start_month':['Jun','Jul','Aug','Sep','Oct','Nov','Dec']}\n",
    "\n",
    "for var in ordinal_var_dict:\n",
    "    ordered_var = pd.api.types.CategoricalDtype(ordered = True,\n",
    "                                                categories = ordinal_var_dict[var])\n",
    "    bike_data_df[var] = bike_data_df[var].astype(ordered_var)"
   ]
  },
  {
   "cell_type": "code",
   "execution_count": 54,
   "metadata": {
    "slideshow": {
     "slide_type": "skip"
    }
   },
   "outputs": [
    {
     "data": {
      "image/png": "[encoded data removed]",
      "text/plain": [
       "<Figure size 432x288 with 1 Axes>"
      ]
     },
     "metadata": {},
     "output_type": "display_data"
    }
   ],
   "source": [
    "#Visually check null values in columns\n",
    "na_counts = bike_data_df.isna().sum()\n",
    "base_color = sb.color_palette()[0]\n",
    "sb.barplot(na_counts.index.values, na_counts, color = base_color)\n",
    "plt.xticks(rotation=90);"
   ]
  },
  {
   "cell_type": "code",
   "execution_count": 55,
   "metadata": {
    "slideshow": {
     "slide_type": "skip"
    }
   },
   "outputs": [
    {
     "data": {
      "text/html": [
       "<div>\n",
       "<style scoped>\n",
       "    .dataframe tbody tr th:only-of-type {\n",
       "        vertical-align: middle;\n",
       "    }\n",
       "\n",
       "    .dataframe tbody tr th {\n",
       "        vertical-align: top;\n",
       "    }\n",
       "\n",
       "    .dataframe thead th {\n",
       "        text-align: right;\n",
       "    }\n",
       "</style>\n",
       "<table border=\"1\" class=\"dataframe\">\n",
       "  <thead>\n",
       "    <tr style=\"text-align: right;\">\n",
       "      <th></th>\n",
       "      <th>start_station_name</th>\n",
       "      <th>end_station_name</th>\n",
       "      <th>user_type</th>\n",
       "      <th>member_gender</th>\n",
       "      <th>start_hour</th>\n",
       "      <th>end_hour</th>\n",
       "      <th>start_date</th>\n",
       "      <th>end_date</th>\n",
       "      <th>start_day_of_week</th>\n",
       "      <th>end_day_of_week</th>\n",
       "      <th>trip_duration_minutes</th>\n",
       "      <th>age_of_rider</th>\n",
       "      <th>start_month</th>\n",
       "    </tr>\n",
       "  </thead>\n",
       "  <tbody>\n",
       "    <tr>\n",
       "      <th>2</th>\n",
       "      <td>Downtown Berkeley BART</td>\n",
       "      <td>Downtown Berkeley BART</td>\n",
       "      <td>Customer</td>\n",
       "      <td>NaN</td>\n",
       "      <td>22</td>\n",
       "      <td>11</td>\n",
       "      <td>2017-12-31</td>\n",
       "      <td>2018-01-01</td>\n",
       "      <td>Sunday</td>\n",
       "      <td>Sunday</td>\n",
       "      <td>762.800000</td>\n",
       "      <td>0</td>\n",
       "      <td>Dec</td>\n",
       "    </tr>\n",
       "    <tr>\n",
       "      <th>3</th>\n",
       "      <td>8th St at Ringold St</td>\n",
       "      <td>Powell St BART Station (Market St at 5th St)</td>\n",
       "      <td>Customer</td>\n",
       "      <td>NaN</td>\n",
       "      <td>17</td>\n",
       "      <td>10</td>\n",
       "      <td>2017-12-31</td>\n",
       "      <td>2018-01-01</td>\n",
       "      <td>Sunday</td>\n",
       "      <td>Sunday</td>\n",
       "      <td>1036.200000</td>\n",
       "      <td>0</td>\n",
       "      <td>Dec</td>\n",
       "    </tr>\n",
       "    <tr>\n",
       "      <th>5</th>\n",
       "      <td>San Francisco Caltrain (Townsend St at 4th St)</td>\n",
       "      <td>San Francisco Caltrain (Townsend St at 4th St)</td>\n",
       "      <td>Customer</td>\n",
       "      <td>NaN</td>\n",
       "      <td>22</td>\n",
       "      <td>1</td>\n",
       "      <td>2017-12-31</td>\n",
       "      <td>2018-01-01</td>\n",
       "      <td>Sunday</td>\n",
       "      <td>Sunday</td>\n",
       "      <td>153.766667</td>\n",
       "      <td>0</td>\n",
       "      <td>Dec</td>\n",
       "    </tr>\n",
       "    <tr>\n",
       "      <th>7</th>\n",
       "      <td>Yerba Buena Center for the Arts (Howard St at ...</td>\n",
       "      <td>Yerba Buena Center for the Arts (Howard St at ...</td>\n",
       "      <td>Customer</td>\n",
       "      <td>NaN</td>\n",
       "      <td>23</td>\n",
       "      <td>0</td>\n",
       "      <td>2017-12-31</td>\n",
       "      <td>2018-01-01</td>\n",
       "      <td>Sunday</td>\n",
       "      <td>Sunday</td>\n",
       "      <td>72.233333</td>\n",
       "      <td>0</td>\n",
       "      <td>Dec</td>\n",
       "    </tr>\n",
       "    <tr>\n",
       "      <th>8</th>\n",
       "      <td>Mechanics Monument Plaza (Market St at Bush St)</td>\n",
       "      <td>Mechanics Monument Plaza (Market St at Bush St)</td>\n",
       "      <td>Customer</td>\n",
       "      <td>NaN</td>\n",
       "      <td>23</td>\n",
       "      <td>0</td>\n",
       "      <td>2017-12-31</td>\n",
       "      <td>2018-01-01</td>\n",
       "      <td>Sunday</td>\n",
       "      <td>Sunday</td>\n",
       "      <td>69.166667</td>\n",
       "      <td>0</td>\n",
       "      <td>Dec</td>\n",
       "    </tr>\n",
       "    <tr>\n",
       "      <th>9</th>\n",
       "      <td>Mechanics Monument Plaza (Market St at Bush St)</td>\n",
       "      <td>Mechanics Monument Plaza (Market St at Bush St)</td>\n",
       "      <td>Customer</td>\n",
       "      <td>NaN</td>\n",
       "      <td>23</td>\n",
       "      <td>0</td>\n",
       "      <td>2017-12-31</td>\n",
       "      <td>2018-01-01</td>\n",
       "      <td>Sunday</td>\n",
       "      <td>Sunday</td>\n",
       "      <td>70.633333</td>\n",
       "      <td>0</td>\n",
       "      <td>Dec</td>\n",
       "    </tr>\n",
       "    <tr>\n",
       "      <th>10</th>\n",
       "      <td>Yerba Buena Center for the Arts (Howard St at ...</td>\n",
       "      <td>Howard St at Beale St</td>\n",
       "      <td>Customer</td>\n",
       "      <td>NaN</td>\n",
       "      <td>23</td>\n",
       "      <td>0</td>\n",
       "      <td>2017-12-31</td>\n",
       "      <td>2018-01-01</td>\n",
       "      <td>Sunday</td>\n",
       "      <td>Sunday</td>\n",
       "      <td>54.866667</td>\n",
       "      <td>0</td>\n",
       "      <td>Dec</td>\n",
       "    </tr>\n",
       "    <tr>\n",
       "      <th>11</th>\n",
       "      <td>Yerba Buena Center for the Arts (Howard St at ...</td>\n",
       "      <td>Howard St at Beale St</td>\n",
       "      <td>Customer</td>\n",
       "      <td>NaN</td>\n",
       "      <td>23</td>\n",
       "      <td>0</td>\n",
       "      <td>2017-12-31</td>\n",
       "      <td>2018-01-01</td>\n",
       "      <td>Sunday</td>\n",
       "      <td>Sunday</td>\n",
       "      <td>52.950000</td>\n",
       "      <td>0</td>\n",
       "      <td>Dec</td>\n",
       "    </tr>\n",
       "    <tr>\n",
       "      <th>14</th>\n",
       "      <td>3rd St at Townsend St</td>\n",
       "      <td>The Embarcadero at Steuart St</td>\n",
       "      <td>Customer</td>\n",
       "      <td>NaN</td>\n",
       "      <td>23</td>\n",
       "      <td>0</td>\n",
       "      <td>2017-12-31</td>\n",
       "      <td>2018-01-01</td>\n",
       "      <td>Sunday</td>\n",
       "      <td>Sunday</td>\n",
       "      <td>44.950000</td>\n",
       "      <td>0</td>\n",
       "      <td>Dec</td>\n",
       "    </tr>\n",
       "    <tr>\n",
       "      <th>17</th>\n",
       "      <td>Folsom St at 9th St</td>\n",
       "      <td>San Francisco Ferry Building (Harry Bridges Pl...</td>\n",
       "      <td>Customer</td>\n",
       "      <td>NaN</td>\n",
       "      <td>23</td>\n",
       "      <td>0</td>\n",
       "      <td>2017-12-31</td>\n",
       "      <td>2018-01-01</td>\n",
       "      <td>Sunday</td>\n",
       "      <td>Sunday</td>\n",
       "      <td>23.283333</td>\n",
       "      <td>0</td>\n",
       "      <td>Dec</td>\n",
       "    </tr>\n",
       "    <tr>\n",
       "      <th>18</th>\n",
       "      <td>Folsom St at 9th St</td>\n",
       "      <td>San Francisco Ferry Building (Harry Bridges Pl...</td>\n",
       "      <td>Subscriber</td>\n",
       "      <td>NaN</td>\n",
       "      <td>23</td>\n",
       "      <td>0</td>\n",
       "      <td>2017-12-31</td>\n",
       "      <td>2018-01-01</td>\n",
       "      <td>Sunday</td>\n",
       "      <td>Sunday</td>\n",
       "      <td>25.533333</td>\n",
       "      <td>30</td>\n",
       "      <td>Dec</td>\n",
       "    </tr>\n",
       "    <tr>\n",
       "      <th>21</th>\n",
       "      <td>San Francisco Caltrain (Townsend St at 4th St)</td>\n",
       "      <td>The Embarcadero at Sansome St</td>\n",
       "      <td>Customer</td>\n",
       "      <td>NaN</td>\n",
       "      <td>22</td>\n",
       "      <td>0</td>\n",
       "      <td>2017-12-31</td>\n",
       "      <td>2018-01-01</td>\n",
       "      <td>Sunday</td>\n",
       "      <td>Sunday</td>\n",
       "      <td>69.566667</td>\n",
       "      <td>0</td>\n",
       "      <td>Dec</td>\n",
       "    </tr>\n",
       "    <tr>\n",
       "      <th>23</th>\n",
       "      <td>3rd St at Townsend St</td>\n",
       "      <td>The Embarcadero at Steuart St</td>\n",
       "      <td>Customer</td>\n",
       "      <td>NaN</td>\n",
       "      <td>23</td>\n",
       "      <td>23</td>\n",
       "      <td>2017-12-31</td>\n",
       "      <td>2017-12-31</td>\n",
       "      <td>Sunday</td>\n",
       "      <td>Sunday</td>\n",
       "      <td>19.416667</td>\n",
       "      <td>0</td>\n",
       "      <td>Dec</td>\n",
       "    </tr>\n",
       "    <tr>\n",
       "      <th>24</th>\n",
       "      <td>3rd St at Townsend St</td>\n",
       "      <td>The Embarcadero at Steuart St</td>\n",
       "      <td>Customer</td>\n",
       "      <td>NaN</td>\n",
       "      <td>23</td>\n",
       "      <td>23</td>\n",
       "      <td>2017-12-31</td>\n",
       "      <td>2017-12-31</td>\n",
       "      <td>Sunday</td>\n",
       "      <td>Sunday</td>\n",
       "      <td>19.150000</td>\n",
       "      <td>0</td>\n",
       "      <td>Dec</td>\n",
       "    </tr>\n",
       "    <tr>\n",
       "      <th>25</th>\n",
       "      <td>3rd St at Townsend St</td>\n",
       "      <td>The Embarcadero at Steuart St</td>\n",
       "      <td>Customer</td>\n",
       "      <td>NaN</td>\n",
       "      <td>23</td>\n",
       "      <td>23</td>\n",
       "      <td>2017-12-31</td>\n",
       "      <td>2017-12-31</td>\n",
       "      <td>Sunday</td>\n",
       "      <td>Sunday</td>\n",
       "      <td>18.833333</td>\n",
       "      <td>0</td>\n",
       "      <td>Dec</td>\n",
       "    </tr>\n",
       "    <tr>\n",
       "      <th>26</th>\n",
       "      <td>3rd St at Townsend St</td>\n",
       "      <td>The Embarcadero at Steuart St</td>\n",
       "      <td>Customer</td>\n",
       "      <td>NaN</td>\n",
       "      <td>23</td>\n",
       "      <td>23</td>\n",
       "      <td>2017-12-31</td>\n",
       "      <td>2017-12-31</td>\n",
       "      <td>Sunday</td>\n",
       "      <td>Sunday</td>\n",
       "      <td>16.716667</td>\n",
       "      <td>0</td>\n",
       "      <td>Dec</td>\n",
       "    </tr>\n",
       "    <tr>\n",
       "      <th>27</th>\n",
       "      <td>The Embarcadero at Sansome St</td>\n",
       "      <td>San Francisco Ferry Building (Harry Bridges Pl...</td>\n",
       "      <td>Customer</td>\n",
       "      <td>NaN</td>\n",
       "      <td>23</td>\n",
       "      <td>23</td>\n",
       "      <td>2017-12-31</td>\n",
       "      <td>2017-12-31</td>\n",
       "      <td>Sunday</td>\n",
       "      <td>Sunday</td>\n",
       "      <td>14.366667</td>\n",
       "      <td>0</td>\n",
       "      <td>Dec</td>\n",
       "    </tr>\n",
       "    <tr>\n",
       "      <th>29</th>\n",
       "      <td>The Embarcadero at Sansome St</td>\n",
       "      <td>San Francisco Ferry Building (Harry Bridges Pl...</td>\n",
       "      <td>Customer</td>\n",
       "      <td>NaN</td>\n",
       "      <td>23</td>\n",
       "      <td>23</td>\n",
       "      <td>2017-12-31</td>\n",
       "      <td>2017-12-31</td>\n",
       "      <td>Sunday</td>\n",
       "      <td>Sunday</td>\n",
       "      <td>13.066667</td>\n",
       "      <td>0</td>\n",
       "      <td>Dec</td>\n",
       "    </tr>\n",
       "    <tr>\n",
       "      <th>30</th>\n",
       "      <td>The Embarcadero at Sansome St</td>\n",
       "      <td>San Francisco Ferry Building (Harry Bridges Pl...</td>\n",
       "      <td>Customer</td>\n",
       "      <td>NaN</td>\n",
       "      <td>23</td>\n",
       "      <td>23</td>\n",
       "      <td>2017-12-31</td>\n",
       "      <td>2017-12-31</td>\n",
       "      <td>Sunday</td>\n",
       "      <td>Sunday</td>\n",
       "      <td>12.783333</td>\n",
       "      <td>0</td>\n",
       "      <td>Dec</td>\n",
       "    </tr>\n",
       "    <tr>\n",
       "      <th>31</th>\n",
       "      <td>S Park St at 3rd St</td>\n",
       "      <td>Davis St at Jackson St</td>\n",
       "      <td>Customer</td>\n",
       "      <td>NaN</td>\n",
       "      <td>22</td>\n",
       "      <td>23</td>\n",
       "      <td>2017-12-31</td>\n",
       "      <td>2017-12-31</td>\n",
       "      <td>Sunday</td>\n",
       "      <td>Sunday</td>\n",
       "      <td>86.550000</td>\n",
       "      <td>0</td>\n",
       "      <td>Dec</td>\n",
       "    </tr>\n",
       "    <tr>\n",
       "      <th>37</th>\n",
       "      <td>San Francisco Caltrain (Townsend St at 4th St)</td>\n",
       "      <td>The Embarcadero at Sansome St</td>\n",
       "      <td>Customer</td>\n",
       "      <td>NaN</td>\n",
       "      <td>22</td>\n",
       "      <td>23</td>\n",
       "      <td>2017-12-31</td>\n",
       "      <td>2017-12-31</td>\n",
       "      <td>Sunday</td>\n",
       "      <td>Sunday</td>\n",
       "      <td>41.850000</td>\n",
       "      <td>0</td>\n",
       "      <td>Dec</td>\n",
       "    </tr>\n",
       "    <tr>\n",
       "      <th>38</th>\n",
       "      <td>San Francisco Caltrain (Townsend St at 4th St)</td>\n",
       "      <td>The Embarcadero at Sansome St</td>\n",
       "      <td>Customer</td>\n",
       "      <td>NaN</td>\n",
       "      <td>22</td>\n",
       "      <td>23</td>\n",
       "      <td>2017-12-31</td>\n",
       "      <td>2017-12-31</td>\n",
       "      <td>Sunday</td>\n",
       "      <td>Sunday</td>\n",
       "      <td>48.266667</td>\n",
       "      <td>0</td>\n",
       "      <td>Dec</td>\n",
       "    </tr>\n",
       "    <tr>\n",
       "      <th>42</th>\n",
       "      <td>Post St at Kearny St</td>\n",
       "      <td>Steuart St at Market St</td>\n",
       "      <td>Customer</td>\n",
       "      <td>NaN</td>\n",
       "      <td>23</td>\n",
       "      <td>23</td>\n",
       "      <td>2017-12-31</td>\n",
       "      <td>2017-12-31</td>\n",
       "      <td>Sunday</td>\n",
       "      <td>Sunday</td>\n",
       "      <td>10.033333</td>\n",
       "      <td>0</td>\n",
       "      <td>Dec</td>\n",
       "    </tr>\n",
       "    <tr>\n",
       "      <th>43</th>\n",
       "      <td>3rd St at Townsend St</td>\n",
       "      <td>The Embarcadero at Steuart St</td>\n",
       "      <td>Customer</td>\n",
       "      <td>NaN</td>\n",
       "      <td>23</td>\n",
       "      <td>23</td>\n",
       "      <td>2017-12-31</td>\n",
       "      <td>2017-12-31</td>\n",
       "      <td>Sunday</td>\n",
       "      <td>Sunday</td>\n",
       "      <td>21.150000</td>\n",
       "      <td>0</td>\n",
       "      <td>Dec</td>\n",
       "    </tr>\n",
       "    <tr>\n",
       "      <th>44</th>\n",
       "      <td>3rd St at Townsend St</td>\n",
       "      <td>The Embarcadero at Steuart St</td>\n",
       "      <td>Customer</td>\n",
       "      <td>NaN</td>\n",
       "      <td>23</td>\n",
       "      <td>23</td>\n",
       "      <td>2017-12-31</td>\n",
       "      <td>2017-12-31</td>\n",
       "      <td>Sunday</td>\n",
       "      <td>Sunday</td>\n",
       "      <td>20.783333</td>\n",
       "      <td>0</td>\n",
       "      <td>Dec</td>\n",
       "    </tr>\n",
       "    <tr>\n",
       "      <th>45</th>\n",
       "      <td>San Francisco City Hall (Polk St at Grove St)</td>\n",
       "      <td>The Embarcadero at Vallejo St</td>\n",
       "      <td>Customer</td>\n",
       "      <td>NaN</td>\n",
       "      <td>22</td>\n",
       "      <td>23</td>\n",
       "      <td>2017-12-31</td>\n",
       "      <td>2017-12-31</td>\n",
       "      <td>Sunday</td>\n",
       "      <td>Sunday</td>\n",
       "      <td>88.166667</td>\n",
       "      <td>0</td>\n",
       "      <td>Dec</td>\n",
       "    </tr>\n",
       "    <tr>\n",
       "      <th>49</th>\n",
       "      <td>The Embarcadero at Sansome St</td>\n",
       "      <td>The Embarcadero at Sansome St</td>\n",
       "      <td>Customer</td>\n",
       "      <td>NaN</td>\n",
       "      <td>23</td>\n",
       "      <td>23</td>\n",
       "      <td>2017-12-31</td>\n",
       "      <td>2017-12-31</td>\n",
       "      <td>Sunday</td>\n",
       "      <td>Sunday</td>\n",
       "      <td>13.033333</td>\n",
       "      <td>0</td>\n",
       "      <td>Dec</td>\n",
       "    </tr>\n",
       "    <tr>\n",
       "      <th>50</th>\n",
       "      <td>The Embarcadero at Sansome St</td>\n",
       "      <td>The Embarcadero at Sansome St</td>\n",
       "      <td>Customer</td>\n",
       "      <td>NaN</td>\n",
       "      <td>23</td>\n",
       "      <td>23</td>\n",
       "      <td>2017-12-31</td>\n",
       "      <td>2017-12-31</td>\n",
       "      <td>Sunday</td>\n",
       "      <td>Sunday</td>\n",
       "      <td>13.316667</td>\n",
       "      <td>0</td>\n",
       "      <td>Dec</td>\n",
       "    </tr>\n",
       "    <tr>\n",
       "      <th>51</th>\n",
       "      <td>The Embarcadero at Sansome St</td>\n",
       "      <td>The Embarcadero at Sansome St</td>\n",
       "      <td>Customer</td>\n",
       "      <td>NaN</td>\n",
       "      <td>23</td>\n",
       "      <td>23</td>\n",
       "      <td>2017-12-31</td>\n",
       "      <td>2017-12-31</td>\n",
       "      <td>Sunday</td>\n",
       "      <td>Sunday</td>\n",
       "      <td>9.583333</td>\n",
       "      <td>0</td>\n",
       "      <td>Dec</td>\n",
       "    </tr>\n",
       "    <tr>\n",
       "      <th>53</th>\n",
       "      <td>The Embarcadero at Vallejo St</td>\n",
       "      <td>Montgomery St BART Station (Market St at 2nd St)</td>\n",
       "      <td>Customer</td>\n",
       "      <td>NaN</td>\n",
       "      <td>19</td>\n",
       "      <td>23</td>\n",
       "      <td>2017-12-31</td>\n",
       "      <td>2017-12-31</td>\n",
       "      <td>Sunday</td>\n",
       "      <td>Sunday</td>\n",
       "      <td>223.466667</td>\n",
       "      <td>0</td>\n",
       "      <td>Dec</td>\n",
       "    </tr>\n",
       "    <tr>\n",
       "      <th>...</th>\n",
       "      <td>...</td>\n",
       "      <td>...</td>\n",
       "      <td>...</td>\n",
       "      <td>...</td>\n",
       "      <td>...</td>\n",
       "      <td>...</td>\n",
       "      <td>...</td>\n",
       "      <td>...</td>\n",
       "      <td>...</td>\n",
       "      <td>...</td>\n",
       "      <td>...</td>\n",
       "      <td>...</td>\n",
       "      <td>...</td>\n",
       "    </tr>\n",
       "    <tr>\n",
       "      <th>519436</th>\n",
       "      <td>2nd St at Townsend St - Coming Soon</td>\n",
       "      <td>The Embarcadero at Vallejo St</td>\n",
       "      <td>Customer</td>\n",
       "      <td>NaN</td>\n",
       "      <td>15</td>\n",
       "      <td>16</td>\n",
       "      <td>2017-06-28</td>\n",
       "      <td>2017-06-28</td>\n",
       "      <td>Wednesday</td>\n",
       "      <td>Wednesday</td>\n",
       "      <td>20.033333</td>\n",
       "      <td>0</td>\n",
       "      <td>Jun</td>\n",
       "    </tr>\n",
       "    <tr>\n",
       "      <th>519437</th>\n",
       "      <td>2nd St at Townsend St - Coming Soon</td>\n",
       "      <td>The Embarcadero at Vallejo St</td>\n",
       "      <td>Customer</td>\n",
       "      <td>NaN</td>\n",
       "      <td>15</td>\n",
       "      <td>16</td>\n",
       "      <td>2017-06-28</td>\n",
       "      <td>2017-06-28</td>\n",
       "      <td>Wednesday</td>\n",
       "      <td>Wednesday</td>\n",
       "      <td>20.016667</td>\n",
       "      <td>0</td>\n",
       "      <td>Jun</td>\n",
       "    </tr>\n",
       "    <tr>\n",
       "      <th>519439</th>\n",
       "      <td>5th at Folsom</td>\n",
       "      <td>5th at Folsom</td>\n",
       "      <td>Customer</td>\n",
       "      <td>NaN</td>\n",
       "      <td>13</td>\n",
       "      <td>16</td>\n",
       "      <td>2017-06-28</td>\n",
       "      <td>2017-06-28</td>\n",
       "      <td>Wednesday</td>\n",
       "      <td>Wednesday</td>\n",
       "      <td>137.850000</td>\n",
       "      <td>0</td>\n",
       "      <td>Jun</td>\n",
       "    </tr>\n",
       "    <tr>\n",
       "      <th>519475</th>\n",
       "      <td>The Embarcadero at Sansome St</td>\n",
       "      <td>The Embarcadero at Sansome St</td>\n",
       "      <td>Customer</td>\n",
       "      <td>NaN</td>\n",
       "      <td>13</td>\n",
       "      <td>15</td>\n",
       "      <td>2017-06-28</td>\n",
       "      <td>2017-06-28</td>\n",
       "      <td>Wednesday</td>\n",
       "      <td>Wednesday</td>\n",
       "      <td>157.483333</td>\n",
       "      <td>0</td>\n",
       "      <td>Jun</td>\n",
       "    </tr>\n",
       "    <tr>\n",
       "      <th>519481</th>\n",
       "      <td>The Embarcadero at Vallejo St</td>\n",
       "      <td>The Embarcadero at Sansome St</td>\n",
       "      <td>Customer</td>\n",
       "      <td>NaN</td>\n",
       "      <td>15</td>\n",
       "      <td>15</td>\n",
       "      <td>2017-06-28</td>\n",
       "      <td>2017-06-28</td>\n",
       "      <td>Wednesday</td>\n",
       "      <td>Wednesday</td>\n",
       "      <td>12.666667</td>\n",
       "      <td>0</td>\n",
       "      <td>Jun</td>\n",
       "    </tr>\n",
       "    <tr>\n",
       "      <th>519483</th>\n",
       "      <td>Howard St at Beale St</td>\n",
       "      <td>Powell St BART Station (Market St at 5th St)</td>\n",
       "      <td>Customer</td>\n",
       "      <td>NaN</td>\n",
       "      <td>15</td>\n",
       "      <td>15</td>\n",
       "      <td>2017-06-28</td>\n",
       "      <td>2017-06-28</td>\n",
       "      <td>Wednesday</td>\n",
       "      <td>Wednesday</td>\n",
       "      <td>18.066667</td>\n",
       "      <td>0</td>\n",
       "      <td>Jun</td>\n",
       "    </tr>\n",
       "    <tr>\n",
       "      <th>519493</th>\n",
       "      <td>The Embarcadero at Sansome St</td>\n",
       "      <td>The Embarcadero at Sansome St</td>\n",
       "      <td>Customer</td>\n",
       "      <td>NaN</td>\n",
       "      <td>15</td>\n",
       "      <td>15</td>\n",
       "      <td>2017-06-28</td>\n",
       "      <td>2017-06-28</td>\n",
       "      <td>Wednesday</td>\n",
       "      <td>Wednesday</td>\n",
       "      <td>2.966667</td>\n",
       "      <td>0</td>\n",
       "      <td>Jun</td>\n",
       "    </tr>\n",
       "    <tr>\n",
       "      <th>519495</th>\n",
       "      <td>Davis St at Jackson St</td>\n",
       "      <td>The Embarcadero at Sansome St</td>\n",
       "      <td>Customer</td>\n",
       "      <td>NaN</td>\n",
       "      <td>15</td>\n",
       "      <td>15</td>\n",
       "      <td>2017-06-28</td>\n",
       "      <td>2017-06-28</td>\n",
       "      <td>Wednesday</td>\n",
       "      <td>Wednesday</td>\n",
       "      <td>11.500000</td>\n",
       "      <td>0</td>\n",
       "      <td>Jun</td>\n",
       "    </tr>\n",
       "    <tr>\n",
       "      <th>519497</th>\n",
       "      <td>Davis St at Jackson St</td>\n",
       "      <td>The Embarcadero at Sansome St</td>\n",
       "      <td>Customer</td>\n",
       "      <td>NaN</td>\n",
       "      <td>15</td>\n",
       "      <td>15</td>\n",
       "      <td>2017-06-28</td>\n",
       "      <td>2017-06-28</td>\n",
       "      <td>Wednesday</td>\n",
       "      <td>Wednesday</td>\n",
       "      <td>7.666667</td>\n",
       "      <td>0</td>\n",
       "      <td>Jun</td>\n",
       "    </tr>\n",
       "    <tr>\n",
       "      <th>519498</th>\n",
       "      <td>The Embarcadero at Sansome St</td>\n",
       "      <td>The Embarcadero at Sansome St</td>\n",
       "      <td>Customer</td>\n",
       "      <td>NaN</td>\n",
       "      <td>13</td>\n",
       "      <td>15</td>\n",
       "      <td>2017-06-28</td>\n",
       "      <td>2017-06-28</td>\n",
       "      <td>Wednesday</td>\n",
       "      <td>Wednesday</td>\n",
       "      <td>82.383333</td>\n",
       "      <td>0</td>\n",
       "      <td>Jun</td>\n",
       "    </tr>\n",
       "    <tr>\n",
       "      <th>519499</th>\n",
       "      <td>The Embarcadero at Sansome St</td>\n",
       "      <td>The Embarcadero at Sansome St</td>\n",
       "      <td>Customer</td>\n",
       "      <td>NaN</td>\n",
       "      <td>13</td>\n",
       "      <td>15</td>\n",
       "      <td>2017-06-28</td>\n",
       "      <td>2017-06-28</td>\n",
       "      <td>Wednesday</td>\n",
       "      <td>Wednesday</td>\n",
       "      <td>82.800000</td>\n",
       "      <td>0</td>\n",
       "      <td>Jun</td>\n",
       "    </tr>\n",
       "    <tr>\n",
       "      <th>519501</th>\n",
       "      <td>Civic Center/UN Plaza BART Station (Market St ...</td>\n",
       "      <td>Civic Center/UN Plaza BART Station (Market St ...</td>\n",
       "      <td>Customer</td>\n",
       "      <td>NaN</td>\n",
       "      <td>10</td>\n",
       "      <td>15</td>\n",
       "      <td>2017-06-28</td>\n",
       "      <td>2017-06-28</td>\n",
       "      <td>Wednesday</td>\n",
       "      <td>Wednesday</td>\n",
       "      <td>253.533333</td>\n",
       "      <td>0</td>\n",
       "      <td>Jun</td>\n",
       "    </tr>\n",
       "    <tr>\n",
       "      <th>519502</th>\n",
       "      <td>Civic Center/UN Plaza BART Station (Market St ...</td>\n",
       "      <td>Civic Center/UN Plaza BART Station (Market St ...</td>\n",
       "      <td>Customer</td>\n",
       "      <td>NaN</td>\n",
       "      <td>10</td>\n",
       "      <td>15</td>\n",
       "      <td>2017-06-28</td>\n",
       "      <td>2017-06-28</td>\n",
       "      <td>Wednesday</td>\n",
       "      <td>Wednesday</td>\n",
       "      <td>253.250000</td>\n",
       "      <td>0</td>\n",
       "      <td>Jun</td>\n",
       "    </tr>\n",
       "    <tr>\n",
       "      <th>519516</th>\n",
       "      <td>San Francisco Ferry Building (Harry Bridges Pl...</td>\n",
       "      <td>Townsend St at 7th St</td>\n",
       "      <td>Customer</td>\n",
       "      <td>NaN</td>\n",
       "      <td>14</td>\n",
       "      <td>14</td>\n",
       "      <td>2017-06-28</td>\n",
       "      <td>2017-06-28</td>\n",
       "      <td>Wednesday</td>\n",
       "      <td>Wednesday</td>\n",
       "      <td>20.800000</td>\n",
       "      <td>0</td>\n",
       "      <td>Jun</td>\n",
       "    </tr>\n",
       "    <tr>\n",
       "      <th>519541</th>\n",
       "      <td>2nd St at S Park St</td>\n",
       "      <td>San Francisco Ferry Building (Harry Bridges Pl...</td>\n",
       "      <td>Customer</td>\n",
       "      <td>NaN</td>\n",
       "      <td>13</td>\n",
       "      <td>14</td>\n",
       "      <td>2017-06-28</td>\n",
       "      <td>2017-06-28</td>\n",
       "      <td>Wednesday</td>\n",
       "      <td>Wednesday</td>\n",
       "      <td>6.766667</td>\n",
       "      <td>0</td>\n",
       "      <td>Jun</td>\n",
       "    </tr>\n",
       "    <tr>\n",
       "      <th>519547</th>\n",
       "      <td>Commercial St at Montgomery St</td>\n",
       "      <td>Montgomery St BART Station (Market St at 2nd St)</td>\n",
       "      <td>Customer</td>\n",
       "      <td>NaN</td>\n",
       "      <td>13</td>\n",
       "      <td>13</td>\n",
       "      <td>2017-06-28</td>\n",
       "      <td>2017-06-28</td>\n",
       "      <td>Wednesday</td>\n",
       "      <td>Wednesday</td>\n",
       "      <td>5.000000</td>\n",
       "      <td>0</td>\n",
       "      <td>Jun</td>\n",
       "    </tr>\n",
       "    <tr>\n",
       "      <th>519552</th>\n",
       "      <td>San Francisco Ferry Building (Harry Bridges Pl...</td>\n",
       "      <td>San Francisco Ferry Building (Harry Bridges Pl...</td>\n",
       "      <td>Customer</td>\n",
       "      <td>NaN</td>\n",
       "      <td>13</td>\n",
       "      <td>13</td>\n",
       "      <td>2017-06-28</td>\n",
       "      <td>2017-06-28</td>\n",
       "      <td>Wednesday</td>\n",
       "      <td>Wednesday</td>\n",
       "      <td>26.000000</td>\n",
       "      <td>0</td>\n",
       "      <td>Jun</td>\n",
       "    </tr>\n",
       "    <tr>\n",
       "      <th>519573</th>\n",
       "      <td>Market St at 10th St</td>\n",
       "      <td>The Embarcadero at Sansome St</td>\n",
       "      <td>Customer</td>\n",
       "      <td>NaN</td>\n",
       "      <td>12</td>\n",
       "      <td>13</td>\n",
       "      <td>2017-06-28</td>\n",
       "      <td>2017-06-28</td>\n",
       "      <td>Wednesday</td>\n",
       "      <td>Wednesday</td>\n",
       "      <td>30.083333</td>\n",
       "      <td>0</td>\n",
       "      <td>Jun</td>\n",
       "    </tr>\n",
       "    <tr>\n",
       "      <th>519580</th>\n",
       "      <td>The Embarcadero at Steuart St</td>\n",
       "      <td>2nd St at Townsend St - Coming Soon</td>\n",
       "      <td>Customer</td>\n",
       "      <td>NaN</td>\n",
       "      <td>12</td>\n",
       "      <td>13</td>\n",
       "      <td>2017-06-28</td>\n",
       "      <td>2017-06-28</td>\n",
       "      <td>Wednesday</td>\n",
       "      <td>Wednesday</td>\n",
       "      <td>11.116667</td>\n",
       "      <td>0</td>\n",
       "      <td>Jun</td>\n",
       "    </tr>\n",
       "    <tr>\n",
       "      <th>519581</th>\n",
       "      <td>The Embarcadero at Steuart St</td>\n",
       "      <td>2nd St at Townsend St - Coming Soon</td>\n",
       "      <td>Customer</td>\n",
       "      <td>NaN</td>\n",
       "      <td>12</td>\n",
       "      <td>13</td>\n",
       "      <td>2017-06-28</td>\n",
       "      <td>2017-06-28</td>\n",
       "      <td>Wednesday</td>\n",
       "      <td>Wednesday</td>\n",
       "      <td>10.866667</td>\n",
       "      <td>0</td>\n",
       "      <td>Jun</td>\n",
       "    </tr>\n",
       "    <tr>\n",
       "      <th>519582</th>\n",
       "      <td>The Embarcadero at Steuart St</td>\n",
       "      <td>2nd St at Townsend St - Coming Soon</td>\n",
       "      <td>Customer</td>\n",
       "      <td>NaN</td>\n",
       "      <td>12</td>\n",
       "      <td>13</td>\n",
       "      <td>2017-06-28</td>\n",
       "      <td>2017-06-28</td>\n",
       "      <td>Wednesday</td>\n",
       "      <td>Wednesday</td>\n",
       "      <td>10.983333</td>\n",
       "      <td>0</td>\n",
       "      <td>Jun</td>\n",
       "    </tr>\n",
       "    <tr>\n",
       "      <th>519583</th>\n",
       "      <td>San Francisco City Hall (Polk St at Grove St)</td>\n",
       "      <td>Civic Center/UN Plaza BART Station (Market St ...</td>\n",
       "      <td>Customer</td>\n",
       "      <td>NaN</td>\n",
       "      <td>12</td>\n",
       "      <td>13</td>\n",
       "      <td>2017-06-28</td>\n",
       "      <td>2017-06-28</td>\n",
       "      <td>Wednesday</td>\n",
       "      <td>Wednesday</td>\n",
       "      <td>8.666667</td>\n",
       "      <td>0</td>\n",
       "      <td>Jun</td>\n",
       "    </tr>\n",
       "    <tr>\n",
       "      <th>519601</th>\n",
       "      <td>Montgomery St BART Station (Market St at 2nd St)</td>\n",
       "      <td>2nd St at Townsend St - Coming Soon</td>\n",
       "      <td>Customer</td>\n",
       "      <td>NaN</td>\n",
       "      <td>12</td>\n",
       "      <td>12</td>\n",
       "      <td>2017-06-28</td>\n",
       "      <td>2017-06-28</td>\n",
       "      <td>Wednesday</td>\n",
       "      <td>Wednesday</td>\n",
       "      <td>9.383333</td>\n",
       "      <td>0</td>\n",
       "      <td>Jun</td>\n",
       "    </tr>\n",
       "    <tr>\n",
       "      <th>519614</th>\n",
       "      <td>Broadway at Battery St</td>\n",
       "      <td>2nd St at Townsend St - Coming Soon</td>\n",
       "      <td>Customer</td>\n",
       "      <td>NaN</td>\n",
       "      <td>11</td>\n",
       "      <td>12</td>\n",
       "      <td>2017-06-28</td>\n",
       "      <td>2017-06-28</td>\n",
       "      <td>Wednesday</td>\n",
       "      <td>Wednesday</td>\n",
       "      <td>14.350000</td>\n",
       "      <td>0</td>\n",
       "      <td>Jun</td>\n",
       "    </tr>\n",
       "    <tr>\n",
       "      <th>519616</th>\n",
       "      <td>Bryant St at 6th St</td>\n",
       "      <td>2nd St at S Park St</td>\n",
       "      <td>Customer</td>\n",
       "      <td>NaN</td>\n",
       "      <td>12</td>\n",
       "      <td>12</td>\n",
       "      <td>2017-06-28</td>\n",
       "      <td>2017-06-28</td>\n",
       "      <td>Wednesday</td>\n",
       "      <td>Wednesday</td>\n",
       "      <td>6.050000</td>\n",
       "      <td>0</td>\n",
       "      <td>Jun</td>\n",
       "    </tr>\n",
       "    <tr>\n",
       "      <th>519631</th>\n",
       "      <td>2nd St at S Park St</td>\n",
       "      <td>2nd St at S Park St</td>\n",
       "      <td>Customer</td>\n",
       "      <td>NaN</td>\n",
       "      <td>10</td>\n",
       "      <td>11</td>\n",
       "      <td>2017-06-28</td>\n",
       "      <td>2017-06-28</td>\n",
       "      <td>Wednesday</td>\n",
       "      <td>Wednesday</td>\n",
       "      <td>63.650000</td>\n",
       "      <td>0</td>\n",
       "      <td>Jun</td>\n",
       "    </tr>\n",
       "    <tr>\n",
       "      <th>519639</th>\n",
       "      <td>San Francisco City Hall (Polk St at Grove St)</td>\n",
       "      <td>The Embarcadero at Steuart St</td>\n",
       "      <td>Customer</td>\n",
       "      <td>NaN</td>\n",
       "      <td>11</td>\n",
       "      <td>11</td>\n",
       "      <td>2017-06-28</td>\n",
       "      <td>2017-06-28</td>\n",
       "      <td>Wednesday</td>\n",
       "      <td>Wednesday</td>\n",
       "      <td>26.033333</td>\n",
       "      <td>0</td>\n",
       "      <td>Jun</td>\n",
       "    </tr>\n",
       "    <tr>\n",
       "      <th>519643</th>\n",
       "      <td>San Francisco Ferry Building (Harry Bridges Pl...</td>\n",
       "      <td>San Francisco City Hall (Polk St at Grove St)</td>\n",
       "      <td>Customer</td>\n",
       "      <td>NaN</td>\n",
       "      <td>10</td>\n",
       "      <td>11</td>\n",
       "      <td>2017-06-28</td>\n",
       "      <td>2017-06-28</td>\n",
       "      <td>Wednesday</td>\n",
       "      <td>Wednesday</td>\n",
       "      <td>29.633333</td>\n",
       "      <td>0</td>\n",
       "      <td>Jun</td>\n",
       "    </tr>\n",
       "    <tr>\n",
       "      <th>519663</th>\n",
       "      <td>The Embarcadero at Bryant St</td>\n",
       "      <td>San Francisco City Hall (Polk St at Grove St)</td>\n",
       "      <td>Customer</td>\n",
       "      <td>NaN</td>\n",
       "      <td>10</td>\n",
       "      <td>10</td>\n",
       "      <td>2017-06-28</td>\n",
       "      <td>2017-06-28</td>\n",
       "      <td>Wednesday</td>\n",
       "      <td>Wednesday</td>\n",
       "      <td>39.150000</td>\n",
       "      <td>0</td>\n",
       "      <td>Jun</td>\n",
       "    </tr>\n",
       "    <tr>\n",
       "      <th>519669</th>\n",
       "      <td>Victoria Manalo Draves Park</td>\n",
       "      <td>The Embarcadero at Bryant St</td>\n",
       "      <td>Subscriber</td>\n",
       "      <td>NaN</td>\n",
       "      <td>10</td>\n",
       "      <td>10</td>\n",
       "      <td>2017-06-28</td>\n",
       "      <td>2017-06-28</td>\n",
       "      <td>Wednesday</td>\n",
       "      <td>Wednesday</td>\n",
       "      <td>11.033333</td>\n",
       "      <td>38</td>\n",
       "      <td>Jun</td>\n",
       "    </tr>\n",
       "  </tbody>\n",
       "</table>\n",
       "<p>72761 rows × 13 columns</p>\n",
       "</div>"
      ],
      "text/plain": [
       "                                       start_station_name  \\\n",
       "2                                  Downtown Berkeley BART   \n",
       "3                                    8th St at Ringold St   \n",
       "5          San Francisco Caltrain (Townsend St at 4th St)   \n",
       "7       Yerba Buena Center for the Arts (Howard St at ...   \n",
       "8         Mechanics Monument Plaza (Market St at Bush St)   \n",
       "9         Mechanics Monument Plaza (Market St at Bush St)   \n",
       "10      Yerba Buena Center for the Arts (Howard St at ...   \n",
       "11      Yerba Buena Center for the Arts (Howard St at ...   \n",
       "14                                  3rd St at Townsend St   \n",
       "17                                    Folsom St at 9th St   \n",
       "18                                    Folsom St at 9th St   \n",
       "21         San Francisco Caltrain (Townsend St at 4th St)   \n",
       "23                                  3rd St at Townsend St   \n",
       "24                                  3rd St at Townsend St   \n",
       "25                                  3rd St at Townsend St   \n",
       "26                                  3rd St at Townsend St   \n",
       "27                          The Embarcadero at Sansome St   \n",
       "29                          The Embarcadero at Sansome St   \n",
       "30                          The Embarcadero at Sansome St   \n",
       "31                                    S Park St at 3rd St   \n",
       "37         San Francisco Caltrain (Townsend St at 4th St)   \n",
       "38         San Francisco Caltrain (Townsend St at 4th St)   \n",
       "42                                   Post St at Kearny St   \n",
       "43                                  3rd St at Townsend St   \n",
       "44                                  3rd St at Townsend St   \n",
       "45          San Francisco City Hall (Polk St at Grove St)   \n",
       "49                          The Embarcadero at Sansome St   \n",
       "50                          The Embarcadero at Sansome St   \n",
       "51                          The Embarcadero at Sansome St   \n",
       "53                          The Embarcadero at Vallejo St   \n",
       "...                                                   ...   \n",
       "519436                2nd St at Townsend St - Coming Soon   \n",
       "519437                2nd St at Townsend St - Coming Soon   \n",
       "519439                                      5th at Folsom   \n",
       "519475                      The Embarcadero at Sansome St   \n",
       "519481                      The Embarcadero at Vallejo St   \n",
       "519483                              Howard St at Beale St   \n",
       "519493                      The Embarcadero at Sansome St   \n",
       "519495                             Davis St at Jackson St   \n",
       "519497                             Davis St at Jackson St   \n",
       "519498                      The Embarcadero at Sansome St   \n",
       "519499                      The Embarcadero at Sansome St   \n",
       "519501  Civic Center/UN Plaza BART Station (Market St ...   \n",
       "519502  Civic Center/UN Plaza BART Station (Market St ...   \n",
       "519516  San Francisco Ferry Building (Harry Bridges Pl...   \n",
       "519541                                2nd St at S Park St   \n",
       "519547                     Commercial St at Montgomery St   \n",
       "519552  San Francisco Ferry Building (Harry Bridges Pl...   \n",
       "519573                               Market St at 10th St   \n",
       "519580                      The Embarcadero at Steuart St   \n",
       "519581                      The Embarcadero at Steuart St   \n",
       "519582                      The Embarcadero at Steuart St   \n",
       "519583      San Francisco City Hall (Polk St at Grove St)   \n",
       "519601   Montgomery St BART Station (Market St at 2nd St)   \n",
       "519614                             Broadway at Battery St   \n",
       "519616                                Bryant St at 6th St   \n",
       "519631                                2nd St at S Park St   \n",
       "519639      San Francisco City Hall (Polk St at Grove St)   \n",
       "519643  San Francisco Ferry Building (Harry Bridges Pl...   \n",
       "519663                       The Embarcadero at Bryant St   \n",
       "519669                        Victoria Manalo Draves Park   \n",
       "\n",
       "                                         end_station_name   user_type  \\\n",
       "2                                  Downtown Berkeley BART    Customer   \n",
       "3            Powell St BART Station (Market St at 5th St)    Customer   \n",
       "5          San Francisco Caltrain (Townsend St at 4th St)    Customer   \n",
       "7       Yerba Buena Center for the Arts (Howard St at ...    Customer   \n",
       "8         Mechanics Monument Plaza (Market St at Bush St)    Customer   \n",
       "9         Mechanics Monument Plaza (Market St at Bush St)    Customer   \n",
       "10                                  Howard St at Beale St    Customer   \n",
       "11                                  Howard St at Beale St    Customer   \n",
       "14                          The Embarcadero at Steuart St    Customer   \n",
       "17      San Francisco Ferry Building (Harry Bridges Pl...    Customer   \n",
       "18      San Francisco Ferry Building (Harry Bridges Pl...  Subscriber   \n",
       "21                          The Embarcadero at Sansome St    Customer   \n",
       "23                          The Embarcadero at Steuart St    Customer   \n",
       "24                          The Embarcadero at Steuart St    Customer   \n",
       "25                          The Embarcadero at Steuart St    Customer   \n",
       "26                          The Embarcadero at Steuart St    Customer   \n",
       "27      San Francisco Ferry Building (Harry Bridges Pl...    Customer   \n",
       "29      San Francisco Ferry Building (Harry Bridges Pl...    Customer   \n",
       "30      San Francisco Ferry Building (Harry Bridges Pl...    Customer   \n",
       "31                                 Davis St at Jackson St    Customer   \n",
       "37                          The Embarcadero at Sansome St    Customer   \n",
       "38                          The Embarcadero at Sansome St    Customer   \n",
       "42                                Steuart St at Market St    Customer   \n",
       "43                          The Embarcadero at Steuart St    Customer   \n",
       "44                          The Embarcadero at Steuart St    Customer   \n",
       "45                          The Embarcadero at Vallejo St    Customer   \n",
       "49                          The Embarcadero at Sansome St    Customer   \n",
       "50                          The Embarcadero at Sansome St    Customer   \n",
       "51                          The Embarcadero at Sansome St    Customer   \n",
       "53       Montgomery St BART Station (Market St at 2nd St)    Customer   \n",
       "...                                                   ...         ...   \n",
       "519436                      The Embarcadero at Vallejo St    Customer   \n",
       "519437                      The Embarcadero at Vallejo St    Customer   \n",
       "519439                                      5th at Folsom    Customer   \n",
       "519475                      The Embarcadero at Sansome St    Customer   \n",
       "519481                      The Embarcadero at Sansome St    Customer   \n",
       "519483       Powell St BART Station (Market St at 5th St)    Customer   \n",
       "519493                      The Embarcadero at Sansome St    Customer   \n",
       "519495                      The Embarcadero at Sansome St    Customer   \n",
       "519497                      The Embarcadero at Sansome St    Customer   \n",
       "519498                      The Embarcadero at Sansome St    Customer   \n",
       "519499                      The Embarcadero at Sansome St    Customer   \n",
       "519501  Civic Center/UN Plaza BART Station (Market St ...    Customer   \n",
       "519502  Civic Center/UN Plaza BART Station (Market St ...    Customer   \n",
       "519516                              Townsend St at 7th St    Customer   \n",
       "519541  San Francisco Ferry Building (Harry Bridges Pl...    Customer   \n",
       "519547   Montgomery St BART Station (Market St at 2nd St)    Customer   \n",
       "519552  San Francisco Ferry Building (Harry Bridges Pl...    Customer   \n",
       "519573                      The Embarcadero at Sansome St    Customer   \n",
       "519580                2nd St at Townsend St - Coming Soon    Customer   \n",
       "519581                2nd St at Townsend St - Coming Soon    Customer   \n",
       "519582                2nd St at Townsend St - Coming Soon    Customer   \n",
       "519583  Civic Center/UN Plaza BART Station (Market St ...    Customer   \n",
       "519601                2nd St at Townsend St - Coming Soon    Customer   \n",
       "519614                2nd St at Townsend St - Coming Soon    Customer   \n",
       "519616                                2nd St at S Park St    Customer   \n",
       "519631                                2nd St at S Park St    Customer   \n",
       "519639                      The Embarcadero at Steuart St    Customer   \n",
       "519643      San Francisco City Hall (Polk St at Grove St)    Customer   \n",
       "519663      San Francisco City Hall (Polk St at Grove St)    Customer   \n",
       "519669                       The Embarcadero at Bryant St  Subscriber   \n",
       "\n",
       "       member_gender  start_hour  end_hour start_date   end_date  \\\n",
       "2                NaN          22        11 2017-12-31 2018-01-01   \n",
       "3                NaN          17        10 2017-12-31 2018-01-01   \n",
       "5                NaN          22         1 2017-12-31 2018-01-01   \n",
       "7                NaN          23         0 2017-12-31 2018-01-01   \n",
       "8                NaN          23         0 2017-12-31 2018-01-01   \n",
       "9                NaN          23         0 2017-12-31 2018-01-01   \n",
       "10               NaN          23         0 2017-12-31 2018-01-01   \n",
       "11               NaN          23         0 2017-12-31 2018-01-01   \n",
       "14               NaN          23         0 2017-12-31 2018-01-01   \n",
       "17               NaN          23         0 2017-12-31 2018-01-01   \n",
       "18               NaN          23         0 2017-12-31 2018-01-01   \n",
       "21               NaN          22         0 2017-12-31 2018-01-01   \n",
       "23               NaN          23        23 2017-12-31 2017-12-31   \n",
       "24               NaN          23        23 2017-12-31 2017-12-31   \n",
       "25               NaN          23        23 2017-12-31 2017-12-31   \n",
       "26               NaN          23        23 2017-12-31 2017-12-31   \n",
       "27               NaN          23        23 2017-12-31 2017-12-31   \n",
       "29               NaN          23        23 2017-12-31 2017-12-31   \n",
       "30               NaN          23        23 2017-12-31 2017-12-31   \n",
       "31               NaN          22        23 2017-12-31 2017-12-31   \n",
       "37               NaN          22        23 2017-12-31 2017-12-31   \n",
       "38               NaN          22        23 2017-12-31 2017-12-31   \n",
       "42               NaN          23        23 2017-12-31 2017-12-31   \n",
       "43               NaN          23        23 2017-12-31 2017-12-31   \n",
       "44               NaN          23        23 2017-12-31 2017-12-31   \n",
       "45               NaN          22        23 2017-12-31 2017-12-31   \n",
       "49               NaN          23        23 2017-12-31 2017-12-31   \n",
       "50               NaN          23        23 2017-12-31 2017-12-31   \n",
       "51               NaN          23        23 2017-12-31 2017-12-31   \n",
       "53               NaN          19        23 2017-12-31 2017-12-31   \n",
       "...              ...         ...       ...        ...        ...   \n",
       "519436           NaN          15        16 2017-06-28 2017-06-28   \n",
       "519437           NaN          15        16 2017-06-28 2017-06-28   \n",
       "519439           NaN          13        16 2017-06-28 2017-06-28   \n",
       "519475           NaN          13        15 2017-06-28 2017-06-28   \n",
       "519481           NaN          15        15 2017-06-28 2017-06-28   \n",
       "519483           NaN          15        15 2017-06-28 2017-06-28   \n",
       "519493           NaN          15        15 2017-06-28 2017-06-28   \n",
       "519495           NaN          15        15 2017-06-28 2017-06-28   \n",
       "519497           NaN          15        15 2017-06-28 2017-06-28   \n",
       "519498           NaN          13        15 2017-06-28 2017-06-28   \n",
       "519499           NaN          13        15 2017-06-28 2017-06-28   \n",
       "519501           NaN          10        15 2017-06-28 2017-06-28   \n",
       "519502           NaN          10        15 2017-06-28 2017-06-28   \n",
       "519516           NaN          14        14 2017-06-28 2017-06-28   \n",
       "519541           NaN          13        14 2017-06-28 2017-06-28   \n",
       "519547           NaN          13        13 2017-06-28 2017-06-28   \n",
       "519552           NaN          13        13 2017-06-28 2017-06-28   \n",
       "519573           NaN          12        13 2017-06-28 2017-06-28   \n",
       "519580           NaN          12        13 2017-06-28 2017-06-28   \n",
       "519581           NaN          12        13 2017-06-28 2017-06-28   \n",
       "519582           NaN          12        13 2017-06-28 2017-06-28   \n",
       "519583           NaN          12        13 2017-06-28 2017-06-28   \n",
       "519601           NaN          12        12 2017-06-28 2017-06-28   \n",
       "519614           NaN          11        12 2017-06-28 2017-06-28   \n",
       "519616           NaN          12        12 2017-06-28 2017-06-28   \n",
       "519631           NaN          10        11 2017-06-28 2017-06-28   \n",
       "519639           NaN          11        11 2017-06-28 2017-06-28   \n",
       "519643           NaN          10        11 2017-06-28 2017-06-28   \n",
       "519663           NaN          10        10 2017-06-28 2017-06-28   \n",
       "519669           NaN          10        10 2017-06-28 2017-06-28   \n",
       "\n",
       "       start_day_of_week end_day_of_week  trip_duration_minutes  age_of_rider  \\\n",
       "2                 Sunday          Sunday             762.800000             0   \n",
       "3                 Sunday          Sunday            1036.200000             0   \n",
       "5                 Sunday          Sunday             153.766667             0   \n",
       "7                 Sunday          Sunday              72.233333             0   \n",
       "8                 Sunday          Sunday              69.166667             0   \n",
       "9                 Sunday          Sunday              70.633333             0   \n",
       "10                Sunday          Sunday              54.866667             0   \n",
       "11                Sunday          Sunday              52.950000             0   \n",
       "14                Sunday          Sunday              44.950000             0   \n",
       "17                Sunday          Sunday              23.283333             0   \n",
       "18                Sunday          Sunday              25.533333            30   \n",
       "21                Sunday          Sunday              69.566667             0   \n",
       "23                Sunday          Sunday              19.416667             0   \n",
       "24                Sunday          Sunday              19.150000             0   \n",
       "25                Sunday          Sunday              18.833333             0   \n",
       "26                Sunday          Sunday              16.716667             0   \n",
       "27                Sunday          Sunday              14.366667             0   \n",
       "29                Sunday          Sunday              13.066667             0   \n",
       "30                Sunday          Sunday              12.783333             0   \n",
       "31                Sunday          Sunday              86.550000             0   \n",
       "37                Sunday          Sunday              41.850000             0   \n",
       "38                Sunday          Sunday              48.266667             0   \n",
       "42                Sunday          Sunday              10.033333             0   \n",
       "43                Sunday          Sunday              21.150000             0   \n",
       "44                Sunday          Sunday              20.783333             0   \n",
       "45                Sunday          Sunday              88.166667             0   \n",
       "49                Sunday          Sunday              13.033333             0   \n",
       "50                Sunday          Sunday              13.316667             0   \n",
       "51                Sunday          Sunday               9.583333             0   \n",
       "53                Sunday          Sunday             223.466667             0   \n",
       "...                  ...             ...                    ...           ...   \n",
       "519436         Wednesday       Wednesday              20.033333             0   \n",
       "519437         Wednesday       Wednesday              20.016667             0   \n",
       "519439         Wednesday       Wednesday             137.850000             0   \n",
       "519475         Wednesday       Wednesday             157.483333             0   \n",
       "519481         Wednesday       Wednesday              12.666667             0   \n",
       "519483         Wednesday       Wednesday              18.066667             0   \n",
       "519493         Wednesday       Wednesday               2.966667             0   \n",
       "519495         Wednesday       Wednesday              11.500000             0   \n",
       "519497         Wednesday       Wednesday               7.666667             0   \n",
       "519498         Wednesday       Wednesday              82.383333             0   \n",
       "519499         Wednesday       Wednesday              82.800000             0   \n",
       "519501         Wednesday       Wednesday             253.533333             0   \n",
       "519502         Wednesday       Wednesday             253.250000             0   \n",
       "519516         Wednesday       Wednesday              20.800000             0   \n",
       "519541         Wednesday       Wednesday               6.766667             0   \n",
       "519547         Wednesday       Wednesday               5.000000             0   \n",
       "519552         Wednesday       Wednesday              26.000000             0   \n",
       "519573         Wednesday       Wednesday              30.083333             0   \n",
       "519580         Wednesday       Wednesday              11.116667             0   \n",
       "519581         Wednesday       Wednesday              10.866667             0   \n",
       "519582         Wednesday       Wednesday              10.983333             0   \n",
       "519583         Wednesday       Wednesday               8.666667             0   \n",
       "519601         Wednesday       Wednesday               9.383333             0   \n",
       "519614         Wednesday       Wednesday              14.350000             0   \n",
       "519616         Wednesday       Wednesday               6.050000             0   \n",
       "519631         Wednesday       Wednesday              63.650000             0   \n",
       "519639         Wednesday       Wednesday              26.033333             0   \n",
       "519643         Wednesday       Wednesday              29.633333             0   \n",
       "519663         Wednesday       Wednesday              39.150000             0   \n",
       "519669         Wednesday       Wednesday              11.033333            38   \n",
       "\n",
       "       start_month  \n",
       "2              Dec  \n",
       "3              Dec  \n",
       "5              Dec  \n",
       "7              Dec  \n",
       "8              Dec  \n",
       "9              Dec  \n",
       "10             Dec  \n",
       "11             Dec  \n",
       "14             Dec  \n",
       "17             Dec  \n",
       "18             Dec  \n",
       "21             Dec  \n",
       "23             Dec  \n",
       "24             Dec  \n",
       "25             Dec  \n",
       "26             Dec  \n",
       "27             Dec  \n",
       "29             Dec  \n",
       "30             Dec  \n",
       "31             Dec  \n",
       "37             Dec  \n",
       "38             Dec  \n",
       "42             Dec  \n",
       "43             Dec  \n",
       "44             Dec  \n",
       "45             Dec  \n",
       "49             Dec  \n",
       "50             Dec  \n",
       "51             Dec  \n",
       "53             Dec  \n",
       "...            ...  \n",
       "519436         Jun  \n",
       "519437         Jun  \n",
       "519439         Jun  \n",
       "519475         Jun  \n",
       "519481         Jun  \n",
       "519483         Jun  \n",
       "519493         Jun  \n",
       "519495         Jun  \n",
       "519497         Jun  \n",
       "519498         Jun  \n",
       "519499         Jun  \n",
       "519501         Jun  \n",
       "519502         Jun  \n",
       "519516         Jun  \n",
       "519541         Jun  \n",
       "519547         Jun  \n",
       "519552         Jun  \n",
       "519573         Jun  \n",
       "519580         Jun  \n",
       "519581         Jun  \n",
       "519582         Jun  \n",
       "519583         Jun  \n",
       "519601         Jun  \n",
       "519614         Jun  \n",
       "519616         Jun  \n",
       "519631         Jun  \n",
       "519639         Jun  \n",
       "519643         Jun  \n",
       "519663         Jun  \n",
       "519669         Jun  \n",
       "\n",
       "[72761 rows x 13 columns]"
      ]
     },
     "execution_count": 55,
     "metadata": {},
     "output_type": "execute_result"
    }
   ],
   "source": [
    "bike_data_df[bike_data_df['member_gender'].isnull()]"
   ]
  },
  {
   "cell_type": "code",
   "execution_count": 56,
   "metadata": {
    "slideshow": {
     "slide_type": "skip"
    }
   },
   "outputs": [],
   "source": [
    "#drop null values from the dataset\n",
    "bike_data_df.dropna(inplace=True)"
   ]
  },
  {
   "cell_type": "code",
   "execution_count": 57,
   "metadata": {
    "slideshow": {
     "slide_type": "skip"
    }
   },
   "outputs": [],
   "source": [
    "#drop duplicate values in dataframe\n",
    "bike_data_df.drop_duplicates(inplace=True)"
   ]
  },
  {
   "cell_type": "markdown",
   "metadata": {
    "slideshow": {
     "slide_type": "skip"
    }
   },
   "source": [
    "#### Grouping time of the day as -Early Morning; Morning Peak ; Afternoon ; Evening Peak ; Night"
   ]
  },
  {
   "cell_type": "code",
   "execution_count": 58,
   "metadata": {
    "slideshow": {
     "slide_type": "skip"
    }
   },
   "outputs": [],
   "source": [
    "bins = [0,7, 10,16,19,23]\n",
    "labels = ['Early Morning','Morning Peak','Afternoon','Evening Peak','Night']\n",
    "bike_data_df['time_of_the_day'] = pd.cut(bike_data_df['start_hour'], bins=bins, labels=labels,include_lowest=True)\n"
   ]
  },
  {
   "cell_type": "markdown",
   "metadata": {
    "slideshow": {
     "slide_type": "slide"
    }
   },
   "source": [
    "### Exploratory Analysis - Univariate Exploration of Data"
   ]
  },
  {
   "cell_type": "markdown",
   "metadata": {
    "slideshow": {
     "slide_type": "slide"
    }
   },
   "source": [
    "#### Number of trips during each hour of day"
   ]
  },
  {
   "cell_type": "code",
   "execution_count": 59,
   "metadata": {
    "slideshow": {
     "slide_type": "subslide"
    }
   },
   "outputs": [
    {
     "data": {
      "image/png": "[encoded data removed]",
      "text/plain": [
       "<Figure size 576x576 with 2 Axes>"
      ]
     },
     "metadata": {},
     "output_type": "display_data"
    }
   ],
   "source": [
    "fig, ax = plt.subplots(nrows=2, figsize = [8,8])\n",
    "\n",
    "default_color = sb.color_palette()[0]\n",
    "sb.countplot(data = bike_data_df, x = 'start_hour', color = default_color, ax = ax[0])\n",
    "\n",
    "sb.countplot(data = bike_data_df, x = 'end_hour', color = default_color, ax = ax[1])\n",
    "\n",
    "plt.show();"
   ]
  },
  {
   "cell_type": "markdown",
   "metadata": {
    "slideshow": {
     "slide_type": "subslide"
    }
   },
   "source": [
    "##### The  explanoratory data clearly shows the peak hours of the day is 7-9 AM and 4-6 PM. Least number of cycles are rented during 12 AM to 5 PM. For further investigation I have grouped the timings of the day in five groups.\n",
    "##### Group 1 : Early morning - 12 AM to 7 AM.\n",
    "##### Group 2 : Morning Peak - 7 AM to 10 AM.\n",
    "##### Group 3: Aftenoon - 10 AM to 4 PM.\n",
    "##### Group 4 Evening Peak - 4 PM to 7 PM.\n",
    "##### Group 5 Night - 7 PM to 11 PM."
   ]
  },
  {
   "cell_type": "markdown",
   "metadata": {
    "slideshow": {
     "slide_type": "slide"
    }
   },
   "source": [
    "### Visualising Age of the Rider "
   ]
  },
  {
   "cell_type": "code",
   "execution_count": 60,
   "metadata": {
    "slideshow": {
     "slide_type": "subslide"
    }
   },
   "outputs": [
    {
     "data": {
      "image/png": "[encoded data removed]",
      "text/plain": [
       "<Figure size 432x288 with 1 Axes>"
      ]
     },
     "metadata": {},
     "output_type": "display_data"
    }
   ],
   "source": [
    "plt.hist(data = bike_data_df, x = 'age_of_rider');\n",
    "plt.xlabel('Age of the Rider');"
   ]
  },
  {
   "cell_type": "markdown",
   "metadata": {
    "slideshow": {
     "slide_type": "skip"
    }
   },
   "source": [
    "##### Looks like there is outlier in the age . Hence, I am  considering only those riders who are under the age of 90. "
   ]
  },
  {
   "cell_type": "code",
   "execution_count": 61,
   "metadata": {
    "slideshow": {
     "slide_type": "skip"
    }
   },
   "outputs": [],
   "source": [
    "bike_data_df = bike_data_df[bike_data_df['age_of_rider'] <= 90]\n",
    "bike_data_df = bike_data_df[bike_data_df['age_of_rider'] >= 18]\n"
   ]
  },
  {
   "cell_type": "markdown",
   "metadata": {
    "slideshow": {
     "slide_type": "slide"
    }
   },
   "source": [
    "##### Graph between number of customers and subscribers"
   ]
  },
  {
   "cell_type": "code",
   "execution_count": 62,
   "metadata": {
    "slideshow": {
     "slide_type": "subslide"
    }
   },
   "outputs": [
    {
     "data": {
      "image/png": "[encoded data removed]",
      "text/plain": [
       "<Figure size 432x288 with 1 Axes>"
      ]
     },
     "metadata": {},
     "output_type": "display_data"
    }
   ],
   "source": [
    "base_color = sb.color_palette()[0]\n",
    "\n",
    "sb.countplot(data=bike_data_df,x='user_type',color=base_color);"
   ]
  },
  {
   "cell_type": "markdown",
   "metadata": {
    "slideshow": {
     "slide_type": "subslide"
    }
   },
   "source": [
    "#### The  graph shows the comparison between number of Customers versus number of Subscribers of Ford Bike Data.We can clearly see from the graph that here are more subscribers than customers for the dataset we have."
   ]
  },
  {
   "cell_type": "markdown",
   "metadata": {
    "slideshow": {
     "slide_type": "slide"
    }
   },
   "source": [
    "#### Graph Showing the comparison between number of bikes rented by Males versus number of number of bike rented by Female of Ford Bike Data. "
   ]
  },
  {
   "cell_type": "code",
   "execution_count": 63,
   "metadata": {
    "slideshow": {
     "slide_type": "subslide"
    }
   },
   "outputs": [
    {
     "data": {
      "image/png": "[encoded data removed]",
      "text/plain": [
       "<Figure size 432x288 with 1 Axes>"
      ]
     },
     "metadata": {},
     "output_type": "display_data"
    }
   ],
   "source": [
    "# create the plot\n",
    "base_color = sb.color_palette()[0]\n",
    "sb.countplot(data = bike_data_df, x = 'member_gender', color = base_color)\n",
    "\n",
    "# add annotations\n",
    "n_points = bike_data_df.shape[0]\n",
    "cat_counts = bike_data_df['member_gender'].value_counts()\n",
    "locs, labels = plt.xticks() # get the current tick locations and labels\n",
    "\n",
    "# loop through each pair of locations and labels\n",
    "for loc, label in zip(locs, labels):\n",
    "\n",
    "    # get the text property for the label to get the correct count\n",
    "    count = cat_counts[label.get_text()]\n",
    "    pct_string = '{:0.1f}%'.format(100*count/n_points)\n",
    "\n",
    "    # print the annotation just below the top of the bar\n",
    "    plt.text(loc, count-8, pct_string, ha = 'center', color = 'r')"
   ]
  },
  {
   "cell_type": "markdown",
   "metadata": {
    "slideshow": {
     "slide_type": "subslide"
    }
   },
   "source": [
    "##### The  graph shows the comparison between number of bikes rented by Males versus number of number of bike rented by Female of Ford Bike Data. We have more males than females in the dataset with 78% Males and 22% Females."
   ]
  },
  {
   "cell_type": "markdown",
   "metadata": {
    "slideshow": {
     "slide_type": "slide"
    }
   },
   "source": [
    "#### Number of bike usage per weekday."
   ]
  },
  {
   "cell_type": "code",
   "execution_count": 64,
   "metadata": {
    "slideshow": {
     "slide_type": "subslide"
    }
   },
   "outputs": [
    {
     "data": {
      "image/png": "[encoded data removed]",
      "text/plain": [
       "<Figure size 432x288 with 1 Axes>"
      ]
     },
     "metadata": {},
     "output_type": "display_data"
    }
   ],
   "source": [
    "level_order = ['Monday', 'Tuesday', 'Wednesday','Thursday','Friday','Saturday','Sunday']\n",
    "ordered_cat = pd.api.types.CategoricalDtype(ordered = True, categories = level_order)\n",
    "bike_data_df['start_day_of_week'] = bike_data_df['start_day_of_week'].astype(ordered_cat)\n",
    "\n",
    "base_color = sb.color_palette()[0]\n",
    "\n",
    "sb.countplot(data=bike_data_df,x='start_day_of_week',color=base_color)\n",
    "plt.xticks(rotation = 90);"
   ]
  },
  {
   "cell_type": "markdown",
   "metadata": {
    "slideshow": {
     "slide_type": "subslide"
    }
   },
   "source": [
    "#### The  graph is show the bike usage on weekdays as well as weekends. This graph shows that highest number of bikes are used on a weekday than on a weekend.\n"
   ]
  },
  {
   "cell_type": "markdown",
   "metadata": {
    "slideshow": {
     "slide_type": "slide"
    }
   },
   "source": [
    "#### Top 10 busy stations for bike pickup\n"
   ]
  },
  {
   "cell_type": "code",
   "execution_count": 65,
   "metadata": {
    "slideshow": {
     "slide_type": "subslide"
    }
   },
   "outputs": [
    {
     "data": {
      "image/png": "[encoded data removed]",
      "text/plain": [
       "<Figure size 432x288 with 1 Axes>"
      ]
     },
     "metadata": {},
     "output_type": "display_data"
    }
   ],
   "source": [
    "base_color = sb.color_palette()[0]\n",
    "start_station_name = bike_data_df['start_station_name'].value_counts()[:10].index\n",
    "sb.countplot(data = bike_data_df, y = 'start_station_name', color = base_color, order = start_station_name);"
   ]
  },
  {
   "cell_type": "markdown",
   "metadata": {
    "slideshow": {
     "slide_type": "slide"
    }
   },
   "source": [
    "### Bivariate Exploration  - Bike Usage based on Weekday and Gender."
   ]
  },
  {
   "cell_type": "code",
   "execution_count": 66,
   "metadata": {
    "slideshow": {
     "slide_type": "subslide"
    }
   },
   "outputs": [
    {
     "data": {
      "image/png": "[encoded data removed]",
      "text/plain": [
       "<Figure size 432x288 with 1 Axes>"
      ]
     },
     "metadata": {},
     "output_type": "display_data"
    }
   ],
   "source": [
    "sb.countplot(data = bike_data_df, x = 'member_gender', hue = 'start_day_of_week');"
   ]
  },
  {
   "cell_type": "markdown",
   "metadata": {
    "slideshow": {
     "slide_type": "subslide"
    }
   },
   "source": [
    "##### Bike Usage based on Weekday and Gender clearly shows that more number of males ride the bike than females and also number of bikes are used more on a weekday than on a weekend."
   ]
  },
  {
   "cell_type": "markdown",
   "metadata": {
    "slideshow": {
     "slide_type": "slide"
    }
   },
   "source": [
    "### Gender vs Month Bike Usage"
   ]
  },
  {
   "cell_type": "code",
   "execution_count": 67,
   "metadata": {
    "slideshow": {
     "slide_type": "subslide"
    }
   },
   "outputs": [
    {
     "data": {
      "image/png": "[encoded data removed]",
      "text/plain": [
       "<Figure size 432x288 with 1 Axes>"
      ]
     },
     "metadata": {},
     "output_type": "display_data"
    }
   ],
   "source": [
    "level_order = ['Jun','Jul','Aug','Sep','Oct','Nov','Dec']\n",
    "\n",
    "\n",
    "sb.countplot(data = bike_data_df, hue = 'member_gender', x = 'start_month',order=level_order);\n"
   ]
  },
  {
   "cell_type": "markdown",
   "metadata": {
    "slideshow": {
     "slide_type": "slide"
    }
   },
   "source": [
    "#### Correlation Plot between Numeric Variables"
   ]
  },
  {
   "cell_type": "code",
   "execution_count": 68,
   "metadata": {
    "slideshow": {
     "slide_type": "skip"
    }
   },
   "outputs": [],
   "source": [
    "numeric_vars = ['trip_duration_minutes','start_hour','age_of_rider']\n"
   ]
  },
  {
   "cell_type": "code",
   "execution_count": 69,
   "metadata": {
    "slideshow": {
     "slide_type": "subslide"
    }
   },
   "outputs": [
    {
     "data": {
      "image/png": "[encoded data removed]",
      "text/plain": [
       "<Figure size 720x504 with 2 Axes>"
      ]
     },
     "metadata": {},
     "output_type": "display_data"
    }
   ],
   "source": [
    "# correlation plot\n",
    "plt.figure(figsize = [10, 7])\n",
    "sb.heatmap(bike_data_df[numeric_vars].corr(), annot = True,\n",
    "           cmap = 'vlag_r', center = 0)\n",
    "plt.show();"
   ]
  },
  {
   "cell_type": "markdown",
   "metadata": {
    "slideshow": {
     "slide_type": "slide"
    }
   },
   "source": [
    "#### Comparison of Gender with user Type"
   ]
  },
  {
   "cell_type": "code",
   "execution_count": 70,
   "metadata": {
    "slideshow": {
     "slide_type": "subslide"
    }
   },
   "outputs": [
    {
     "data": {
      "image/png": "[encoded data removed]",
      "text/plain": [
       "<Figure size 432x288 with 1 Axes>"
      ]
     },
     "metadata": {},
     "output_type": "display_data"
    }
   ],
   "source": [
    "sb.countplot(data = bike_data_df, x = 'member_gender', hue = 'user_type');"
   ]
  },
  {
   "cell_type": "markdown",
   "metadata": {
    "slideshow": {
     "slide_type": "slide"
    }
   },
   "source": [
    "#### Below Graph showing what time of the Day is most busy and which is least?\n"
   ]
  },
  {
   "cell_type": "code",
   "execution_count": 71,
   "metadata": {
    "slideshow": {
     "slide_type": "subslide"
    }
   },
   "outputs": [
    {
     "data": {
      "image/png": "[encoded data removed]",
      "text/plain": [
       "<Figure size 1080x864 with 1 Axes>"
      ]
     },
     "metadata": {},
     "output_type": "display_data"
    }
   ],
   "source": [
    "plt.figure(figsize = [15, 12])\n",
    "\n",
    "# subplot 1: color vs cut\n",
    "plt.subplot(3, 1, 1)\n",
    "sb.countplot(data = bike_data_df, x = 'start_day_of_week', hue = 'time_of_the_day', palette = 'Blues')\n",
    "\n",
    "plt.show();"
   ]
  },
  {
   "cell_type": "markdown",
   "metadata": {
    "slideshow": {
     "slide_type": "subslide"
    }
   },
   "source": [
    "##### The  graph clearly shows that weekdays are more busy than weekends and graph shows the peak hours of the day."
   ]
  },
  {
   "cell_type": "markdown",
   "metadata": {
    "slideshow": {
     "slide_type": "slide"
    }
   },
   "source": [
    "#### Box Plot showing age of rider on weekday."
   ]
  },
  {
   "cell_type": "code",
   "execution_count": 72,
   "metadata": {
    "slideshow": {
     "slide_type": "subslide"
    }
   },
   "outputs": [
    {
     "data": {
      "image/png": "[encoded data removed]",
      "text/plain": [
       "<Figure size 432x288 with 1 Axes>"
      ]
     },
     "metadata": {},
     "output_type": "display_data"
    }
   ],
   "source": [
    "base_color = sb.color_palette()[0]\n",
    "\n",
    "sb.boxplot(data = bike_data_df, x = 'start_day_of_week', y = 'age_of_rider',color=base_color)\n",
    "plt.xticks(rotation=45);\n"
   ]
  },
  {
   "cell_type": "markdown",
   "metadata": {
    "slideshow": {
     "slide_type": "slide"
    }
   },
   "source": [
    "### Multivariate Exploration of Data"
   ]
  },
  {
   "cell_type": "code",
   "execution_count": 73,
   "metadata": {
    "slideshow": {
     "slide_type": "subslide"
    }
   },
   "outputs": [
    {
     "data": {
      "image/png": "[encoded data removed]",
      "text/plain": [
       "<Figure size 521.125x432 with 1 Axes>"
      ]
     },
     "metadata": {},
     "output_type": "display_data"
    }
   ],
   "source": [
    "g = sb.FacetGrid(data = bike_data_df, hue = 'user_type', size = 6)\n",
    "g.map(plt.scatter, 'age_of_rider','trip_duration_minutes',alpha=0.5)\n",
    "y_ticks = [400, 800,1200, 1600, 2000, 2400]\n",
    "x_ticks = [20,30,40,50,60,70,80]\n",
    "g.add_legend();"
   ]
  },
  {
   "cell_type": "markdown",
   "metadata": {
    "slideshow": {
     "slide_type": "slide"
    }
   },
   "source": [
    "#### Multivariate graph between time of day, gender and age of the rider"
   ]
  },
  {
   "cell_type": "code",
   "execution_count": 74,
   "metadata": {
    "slideshow": {
     "slide_type": "subslide"
    }
   },
   "outputs": [
    {
     "data": {
      "image/png": "[encoded data removed]",
      "text/plain": [
       "<Figure size 432x288 with 1 Axes>"
      ]
     },
     "metadata": {},
     "output_type": "display_data"
    }
   ],
   "source": [
    "ax = sb.barplot(data = bike_data_df, x = 'member_gender', y = 'age_of_rider', hue = 'time_of_the_day')\n",
    "ax.legend(loc =8, ncol = 3, framealpha = 1, title = 'Time_of_the_Day');"
   ]
  },
  {
   "cell_type": "markdown",
   "metadata": {
    "slideshow": {
     "slide_type": "subslide"
    }
   },
   "source": [
    "##### The  graph clearly depicts that the age group of male and female is same while riding a bike at any point of day even though the number of females riding a bike is less than males."
   ]
  },
  {
   "cell_type": "code",
   "execution_count": 75,
   "metadata": {
    "slideshow": {
     "slide_type": "slide"
    }
   },
   "outputs": [
    {
     "data": {
      "image/png": "[encoded data removed]",
      "text/plain": [
       "<Figure size 432x288 with 2 Axes>"
      ]
     },
     "metadata": {},
     "output_type": "display_data"
    }
   ],
   "source": [
    "sb.heatmap(bike_data_df.corr(), annot = True, fmt = '.2f', cmap = 'vlag_r', center = 0);\n"
   ]
  },
  {
   "cell_type": "markdown",
   "metadata": {
    "slideshow": {
     "slide_type": "slide"
    }
   },
   "source": [
    "####  Exploration of two categorical variables (gender and customer type) with numerical (age)"
   ]
  },
  {
   "cell_type": "code",
   "execution_count": 76,
   "metadata": {
    "slideshow": {
     "slide_type": "subslide"
    }
   },
   "outputs": [
    {
     "name": "stderr",
     "output_type": "stream",
     "text": [
      "/Users/Akshat/anaconda3/lib/python3.6/site-packages/seaborn/axisgrid.py:703: UserWarning: Using the boxplot function without specifying `order` is likely to produce an incorrect plot.\n",
      "  warnings.warn(warning)\n"
     ]
    },
    {
     "data": {
      "image/png": "[encoded data removed]",
      "text/plain": [
       "<Figure size 576x288 with 2 Axes>"
      ]
     },
     "metadata": {},
     "output_type": "display_data"
    }
   ],
   "source": [
    "g = sb.FacetGrid(data = bike_data_df, col = 'user_type', size = 4)\n",
    "g.map(sb.boxplot, 'member_gender', 'age_of_rider');"
   ]
  },
  {
   "cell_type": "code",
   "execution_count": null,
   "metadata": {},
   "outputs": [],
   "source": []
  }
 ],
 "metadata": {
  "celltoolbar": "Slideshow",
  "kernelspec": {
   "display_name": "Python [conda env:anaconda3]",
   "language": "python",
   "name": "conda-env-anaconda3-py"
  },
  "language_info": {
   "codemirror_mode": {
    "name": "ipython",
    "version": 3
   },
   "file_extension": ".py",
   "mimetype": "text/x-python",
   "name": "python",
   "nbconvert_exporter": "python",
   "pygments_lexer": "ipython3",
   "version": "3.6.5"
  }
 },
 "nbformat": 4,
 "nbformat_minor": 2
}
